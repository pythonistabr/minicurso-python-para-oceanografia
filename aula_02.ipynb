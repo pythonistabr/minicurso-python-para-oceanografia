{
 "cells": [
  {
   "cell_type": "code",
   "execution_count": 1,
   "id": "213f6cfa",
   "metadata": {},
   "outputs": [
    {
     "data": {
      "text/plain": [
       "'en_US.utf-8'"
      ]
     },
     "execution_count": 1,
     "metadata": {},
     "output_type": "execute_result"
    }
   ],
   "source": [
    "import os\n",
    "import numpy\n",
    "import locale\n",
    "import pandas as pd\n",
    "import datetime as dt\n",
    "locale.setlocale(locale.LC_ALL,\"en_US.utf-8\")"
   ]
  },
  {
   "cell_type": "code",
   "execution_count": null,
   "id": "74ed5f59",
   "metadata": {},
   "outputs": [],
   "source": [
    "%matplotlib auto"
   ]
  },
  {
   "cell_type": "code",
   "execution_count": 3,
   "id": "27f296ae",
   "metadata": {},
   "outputs": [
    {
     "data": {
      "text/plain": [
       "'/home/gustavo/Documentos/python_aulas/scripts'"
      ]
     },
     "execution_count": 3,
     "metadata": {},
     "output_type": "execute_result"
    }
   ],
   "source": [
    "os.getcwd()"
   ]
  },
  {
   "cell_type": "code",
   "execution_count": 4,
   "id": "c4d39a08",
   "metadata": {},
   "outputs": [],
   "source": [
    "dado = pd.read_csv('../dados/giovanni/serie_temp_limpa.csv', delimiter=' ')"
   ]
  },
  {
   "cell_type": "code",
   "execution_count": 5,
   "id": "3146909c",
   "metadata": {},
   "outputs": [],
   "source": [
    "dado.columns = ['ano','mes','dia','hora','minu','seg','clorofila']"
   ]
  },
  {
   "cell_type": "code",
   "execution_count": 6,
   "id": "6e6e03ea",
   "metadata": {},
   "outputs": [
    {
     "data": {
      "text/html": [
       "<div>\n",
       "<style scoped>\n",
       "    .dataframe tbody tr th:only-of-type {\n",
       "        vertical-align: middle;\n",
       "    }\n",
       "\n",
       "    .dataframe tbody tr th {\n",
       "        vertical-align: top;\n",
       "    }\n",
       "\n",
       "    .dataframe thead th {\n",
       "        text-align: right;\n",
       "    }\n",
       "</style>\n",
       "<table border=\"1\" class=\"dataframe\">\n",
       "  <thead>\n",
       "    <tr style=\"text-align: right;\">\n",
       "      <th></th>\n",
       "      <th>ano</th>\n",
       "      <th>mes</th>\n",
       "      <th>dia</th>\n",
       "      <th>hora</th>\n",
       "      <th>minu</th>\n",
       "      <th>seg</th>\n",
       "      <th>clorofila</th>\n",
       "    </tr>\n",
       "  </thead>\n",
       "  <tbody>\n",
       "    <tr>\n",
       "      <th>count</th>\n",
       "      <td>215.000000</td>\n",
       "      <td>215.000000</td>\n",
       "      <td>215.000000</td>\n",
       "      <td>215.000000</td>\n",
       "      <td>215.000000</td>\n",
       "      <td>215.000000</td>\n",
       "      <td>215.000000</td>\n",
       "    </tr>\n",
       "    <tr>\n",
       "      <th>mean</th>\n",
       "      <td>2011.539535</td>\n",
       "      <td>6.525581</td>\n",
       "      <td>1.004651</td>\n",
       "      <td>0.139535</td>\n",
       "      <td>18.627907</td>\n",
       "      <td>0.730233</td>\n",
       "      <td>27.629439</td>\n",
       "    </tr>\n",
       "    <tr>\n",
       "      <th>std</th>\n",
       "      <td>5.179675</td>\n",
       "      <td>3.447611</td>\n",
       "      <td>0.068199</td>\n",
       "      <td>1.377072</td>\n",
       "      <td>16.193952</td>\n",
       "      <td>0.832611</td>\n",
       "      <td>0.909757</td>\n",
       "    </tr>\n",
       "    <tr>\n",
       "      <th>min</th>\n",
       "      <td>2003.000000</td>\n",
       "      <td>1.000000</td>\n",
       "      <td>1.000000</td>\n",
       "      <td>0.000000</td>\n",
       "      <td>0.000000</td>\n",
       "      <td>0.000000</td>\n",
       "      <td>26.043751</td>\n",
       "    </tr>\n",
       "    <tr>\n",
       "      <th>25%</th>\n",
       "      <td>2007.000000</td>\n",
       "      <td>4.000000</td>\n",
       "      <td>1.000000</td>\n",
       "      <td>0.000000</td>\n",
       "      <td>5.000000</td>\n",
       "      <td>0.000000</td>\n",
       "      <td>26.771666</td>\n",
       "    </tr>\n",
       "    <tr>\n",
       "      <th>50%</th>\n",
       "      <td>2012.000000</td>\n",
       "      <td>7.000000</td>\n",
       "      <td>1.000000</td>\n",
       "      <td>0.000000</td>\n",
       "      <td>15.000000</td>\n",
       "      <td>1.000000</td>\n",
       "      <td>27.539167</td>\n",
       "    </tr>\n",
       "    <tr>\n",
       "      <th>75%</th>\n",
       "      <td>2016.000000</td>\n",
       "      <td>9.500000</td>\n",
       "      <td>1.000000</td>\n",
       "      <td>0.000000</td>\n",
       "      <td>30.000000</td>\n",
       "      <td>1.000000</td>\n",
       "      <td>28.382916</td>\n",
       "    </tr>\n",
       "    <tr>\n",
       "      <th>max</th>\n",
       "      <td>2020.000000</td>\n",
       "      <td>12.000000</td>\n",
       "      <td>2.000000</td>\n",
       "      <td>20.000000</td>\n",
       "      <td>55.000000</td>\n",
       "      <td>10.000000</td>\n",
       "      <td>29.959572</td>\n",
       "    </tr>\n",
       "  </tbody>\n",
       "</table>\n",
       "</div>"
      ],
      "text/plain": [
       "               ano         mes         dia        hora        minu  \\\n",
       "count   215.000000  215.000000  215.000000  215.000000  215.000000   \n",
       "mean   2011.539535    6.525581    1.004651    0.139535   18.627907   \n",
       "std       5.179675    3.447611    0.068199    1.377072   16.193952   \n",
       "min    2003.000000    1.000000    1.000000    0.000000    0.000000   \n",
       "25%    2007.000000    4.000000    1.000000    0.000000    5.000000   \n",
       "50%    2012.000000    7.000000    1.000000    0.000000   15.000000   \n",
       "75%    2016.000000    9.500000    1.000000    0.000000   30.000000   \n",
       "max    2020.000000   12.000000    2.000000   20.000000   55.000000   \n",
       "\n",
       "              seg   clorofila  \n",
       "count  215.000000  215.000000  \n",
       "mean     0.730233   27.629439  \n",
       "std      0.832611    0.909757  \n",
       "min      0.000000   26.043751  \n",
       "25%      0.000000   26.771666  \n",
       "50%      1.000000   27.539167  \n",
       "75%      1.000000   28.382916  \n",
       "max     10.000000   29.959572  "
      ]
     },
     "execution_count": 6,
     "metadata": {},
     "output_type": "execute_result"
    }
   ],
   "source": [
    "dado.describe()"
   ]
  },
  {
   "cell_type": "code",
   "execution_count": 7,
   "id": "b45f5cd7",
   "metadata": {},
   "outputs": [],
   "source": [
    "Tempo = dado['dia'].astype(str) + '/' + dado['mes'].astype(str)+'/' + dado['ano'].astype(str)"
   ]
  },
  {
   "cell_type": "code",
   "execution_count": 8,
   "id": "acced9d6",
   "metadata": {},
   "outputs": [
    {
     "data": {
      "text/plain": [
       "0       1/2/2003\n",
       "1       1/3/2003\n",
       "2       1/4/2003\n",
       "3       1/5/2003\n",
       "4       1/6/2003\n",
       "         ...    \n",
       "210     1/8/2020\n",
       "211     2/9/2020\n",
       "212    1/10/2020\n",
       "213    1/11/2020\n",
       "214    1/12/2020\n",
       "Length: 215, dtype: object"
      ]
     },
     "execution_count": 8,
     "metadata": {},
     "output_type": "execute_result"
    }
   ],
   "source": [
    "Tempo"
   ]
  },
  {
   "cell_type": "code",
   "execution_count": 9,
   "id": "36470434",
   "metadata": {},
   "outputs": [],
   "source": [
    "Tempo2 = [dt.datetime.strptime(tt,'%d/%m/%Y') for tt in Tempo]"
   ]
  },
  {
   "cell_type": "code",
   "execution_count": 21,
   "id": "ac69b3b8",
   "metadata": {},
   "outputs": [],
   "source": [
    "Tempo2;"
   ]
  },
  {
   "cell_type": "code",
   "execution_count": 10,
   "id": "ceeb9fd0",
   "metadata": {},
   "outputs": [],
   "source": [
    "import matplotlib.pyplot as plt\n",
    "import matplotlib.dates as mdates"
   ]
  },
  {
   "cell_type": "code",
   "execution_count": 15,
   "id": "60bd1fdf",
   "metadata": {},
   "outputs": [],
   "source": [
    "plt.figure(figsize=(20,10))\n",
    "\n",
    "plt.plot(Tempo2, dado.clorofila, linestyle='--',\n",
    "         color='darkorange',label='clorofila') # plotando o dado de clorofila\n",
    "\n",
    "plt.xlabel('Ano') # titulo do eixo y\n",
    "\n",
    "plt.ylabel(\"clorofila (ug/dL)\") # titulo do eixo x\n",
    "\n",
    "plt.title('Clorofila (Boia Fortaleza)')\n",
    "plt.legend()\n",
    "plt.show()\n"
   ]
  },
  {
   "cell_type": "markdown",
   "id": "c20aeebe",
   "metadata": {},
   "source": [
    "### Graficos com subplots"
   ]
  },
  {
   "cell_type": "code",
   "execution_count": 63,
   "id": "438191f5",
   "metadata": {},
   "outputs": [],
   "source": [
    "fig, ax = plt.subplots(figsize=(10,5)) # definindo o tipo de plot e tamanho\n",
    "\n",
    "ax.plot(Tempo2, dado.clorofila) # plotando o dado\n",
    "\n",
    "ax.set_ylabel('Clorofila') # titulo do eixo y\n",
    "\n",
    "ax.set_xlabel(\"Anos\") # titulo do eixo x\n",
    "\n",
    "myfmt = mdates.DateFormatter('%b-%y') # variavel fmt define o formato da data\n",
    "\n",
    "ax.xaxis.set_major_formatter(myfmt) # setando o formato para mes/ano\n",
    "\n",
    "ax.xaxis.set_tick_params(labelsize = 12, labelrotation = 10) # alterando o tamanho das labels"
   ]
  },
  {
   "cell_type": "markdown",
   "id": "95a4e5ac",
   "metadata": {},
   "source": [
    "#### Exercicios\n",
    "\n",
    "plotar uma serie temporal de dados de ondas, esse plot tem que ter datas no eixo x e o nome do parametro (altura, Tp, Hs) no eixo y. Use a biblioteca pandas para ler os dados, use o comando describe para ver a media, desvio padrão, maximos e minimos. Para criar o datetime quero que use a bilioteca datetime."
   ]
  },
  {
   "cell_type": "code",
   "execution_count": null,
   "id": "9b3e0795",
   "metadata": {},
   "outputs": [],
   "source": []
  }
 ],
 "metadata": {
  "kernelspec": {
   "display_name": "Python 3 (ipykernel)",
   "language": "python",
   "name": "python3"
  },
  "language_info": {
   "codemirror_mode": {
    "name": "ipython",
    "version": 3
   },
   "file_extension": ".py",
   "mimetype": "text/x-python",
   "name": "python",
   "nbconvert_exporter": "python",
   "pygments_lexer": "ipython3",
   "version": "3.8.5"
  }
 },
 "nbformat": 4,
 "nbformat_minor": 5
}
