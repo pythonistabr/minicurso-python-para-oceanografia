{
 "cells": [
  {
   "cell_type": "markdown",
   "id": "d486ac38",
   "metadata": {},
   "source": [
    "# Python aplicado à analise de dados ambientais"
   ]
  },
  {
   "cell_type": "markdown",
   "id": "a5f41c29",
   "metadata": {},
   "source": [
    "<p style=\"color:blue\"> Instrutor: Gustavo Leitao </p>\n",
    "<p> github: @pythonistabr</p>"
   ]
  },
  {
   "cell_type": "markdown",
   "id": "01a2d884",
   "metadata": {},
   "source": [
    "### variaveis e estruturas\n",
    "\n",
    "Em python podemos ter alguns tipos de variaveis, são elas:\n",
    "os trings ou texto, numeros inteiros, numeros flutuantes e numeros\n",
    "complexos. Vamos começar pelos tipos de variáveis, depois avançaremos\n",
    "para as estruturas de dados.\n"
   ]
  },
  {
   "cell_type": "code",
   "execution_count": 97,
   "id": "e59ab623",
   "metadata": {},
   "outputs": [],
   "source": [
    "#para declarar uma variavel como string usamos '' ou \"\"\n",
    "meu_nome = \"gustavo\"\n",
    "meu_sobrenome = \"viana\""
   ]
  },
  {
   "cell_type": "markdown",
   "id": "4968ff46",
   "metadata": {},
   "source": [
    "### operações com strings"
   ]
  },
  {
   "cell_type": "code",
   "execution_count": 98,
   "id": "37e68949",
   "metadata": {},
   "outputs": [],
   "source": [
    "#concatenação\n",
    "meu_nome_completo = meu_nome+\" \"+meu_sobrenome"
   ]
  },
  {
   "cell_type": "code",
   "execution_count": 99,
   "id": "efdd1159",
   "metadata": {},
   "outputs": [
    {
     "name": "stdout",
     "output_type": "stream",
     "text": [
      "gustavo viana\n"
     ]
    }
   ],
   "source": [
    "print(meu_nome_completo)"
   ]
  },
  {
   "cell_type": "code",
   "execution_count": 100,
   "id": "b356394d",
   "metadata": {},
   "outputs": [],
   "source": [
    "# corte de strings\n",
    "meu_primeiro_nome = meu_nome_completo.split(\" \"+meu_sobrenome)"
   ]
  },
  {
   "cell_type": "code",
   "execution_count": 101,
   "id": "2ee7e4f9",
   "metadata": {},
   "outputs": [
    {
     "data": {
      "text/plain": [
       "'gustavo'"
      ]
     },
     "execution_count": 101,
     "metadata": {},
     "output_type": "execute_result"
    }
   ],
   "source": [
    "meu_primeiro_nome[0]"
   ]
  },
  {
   "cell_type": "markdown",
   "id": "73cf7f9b",
   "metadata": {},
   "source": [
    "<h3> Numeros, estruturas e indexação </h3>"
   ]
  },
  {
   "cell_type": "markdown",
   "id": "7854b72c",
   "metadata": {},
   "source": [
    "<h4>\n",
    "\n",
    "<p> listas, tuplas, dicionários e arrays são as principais estruturas de armazenamento de dados\n",
    "em python. As listas, dicionarios e arrays são estruturas mutaveis, enquanto as tuplas não. Vamos começar pelas tuplas.</p>\n",
    "\n",
    "A forma geral é:\n",
    "tupla = () # instaciação de uma tupla\n",
    "\n",
    "</h4>"
   ]
  },
  {
   "cell_type": "markdown",
   "id": "67ae3c37",
   "metadata": {},
   "source": [
    "#### tuplas"
   ]
  },
  {
   "cell_type": "code",
   "execution_count": 111,
   "id": "884588c4",
   "metadata": {},
   "outputs": [],
   "source": [
    "a = ('a','b','c') #declarando os valores de a"
   ]
  },
  {
   "cell_type": "code",
   "execution_count": 112,
   "id": "b185b363",
   "metadata": {},
   "outputs": [
    {
     "name": "stdout",
     "output_type": "stream",
     "text": [
      "('a', 'b', 'c')\n"
     ]
    }
   ],
   "source": [
    "print(a)"
   ]
  },
  {
   "cell_type": "code",
   "execution_count": 114,
   "id": "94bb6617",
   "metadata": {},
   "outputs": [
    {
     "data": {
      "text/plain": [
       "'a'"
      ]
     },
     "execution_count": 114,
     "metadata": {},
     "output_type": "execute_result"
    }
   ],
   "source": [
    "a[0] #indexação mostrando o 1° valor armazanado na variavel a."
   ]
  },
  {
   "cell_type": "code",
   "execution_count": 115,
   "id": "7dc2f566",
   "metadata": {},
   "outputs": [
    {
     "data": {
      "text/plain": [
       "'b'"
      ]
     },
     "execution_count": 115,
     "metadata": {},
     "output_type": "execute_result"
    }
   ],
   "source": [
    "a[1] #indexação mostrando o 2° valor armazanado na variavel a."
   ]
  },
  {
   "cell_type": "markdown",
   "id": "f324c562",
   "metadata": {},
   "source": [
    "#### dicionarios"
   ]
  },
  {
   "cell_type": "code",
   "execution_count": 116,
   "id": "e31216a7",
   "metadata": {},
   "outputs": [],
   "source": [
    "nomes = ['joao','pedro','tiago']\n",
    "telefones = ['555-333','222-444','985-347']\n",
    "endereco = ['rua pedro 1','rua 1','beira mar']"
   ]
  },
  {
   "cell_type": "code",
   "execution_count": 117,
   "id": "0f9ae680",
   "metadata": {},
   "outputs": [],
   "source": [
    "#criando um dicionario\n",
    "minha_agenda = {\"Nome\":nomes,\"Telefones\":telefones,\"Endereco\":endereco}"
   ]
  },
  {
   "cell_type": "code",
   "execution_count": 118,
   "id": "21dbd069",
   "metadata": {},
   "outputs": [
    {
     "data": {
      "text/plain": [
       "['joao', 'pedro', 'tiago']"
      ]
     },
     "execution_count": 118,
     "metadata": {},
     "output_type": "execute_result"
    }
   ],
   "source": [
    "minha_agenda['Nome']"
   ]
  },
  {
   "cell_type": "code",
   "execution_count": 119,
   "id": "7d1ceab3",
   "metadata": {},
   "outputs": [
    {
     "data": {
      "text/plain": [
       "['555-333', '222-444', '985-347']"
      ]
     },
     "execution_count": 119,
     "metadata": {},
     "output_type": "execute_result"
    }
   ],
   "source": [
    "minha_agenda['Telefones']"
   ]
  },
  {
   "cell_type": "code",
   "execution_count": 120,
   "id": "e6b7fa81",
   "metadata": {},
   "outputs": [
    {
     "data": {
      "text/plain": [
       "['rua pedro 1', 'rua 1', 'beira mar']"
      ]
     },
     "execution_count": 120,
     "metadata": {},
     "output_type": "execute_result"
    }
   ],
   "source": [
    "minha_agenda['Endereco']"
   ]
  },
  {
   "cell_type": "code",
   "execution_count": 121,
   "id": "2631ba6f",
   "metadata": {},
   "outputs": [
    {
     "name": "stdout",
     "output_type": "stream",
     "text": [
      "{'Nome': ['joao', 'pedro', 'tiago'], 'Telefones': ['555-333', '222-444', '985-347'], 'Endereco': ['rua pedro 1', 'rua 1', 'beira mar']}\n"
     ]
    }
   ],
   "source": [
    "print(minha_agenda)"
   ]
  },
  {
   "cell_type": "code",
   "execution_count": 122,
   "id": "a0c5b5a4",
   "metadata": {},
   "outputs": [
    {
     "data": {
      "text/plain": [
       "['joao', 'pedro', 'tiago']"
      ]
     },
     "execution_count": 122,
     "metadata": {},
     "output_type": "execute_result"
    }
   ],
   "source": [
    "#alterendo valores e chaves\n",
    "minha_agenda.pop(\"Nome\") #removendo a lista de nomes os nomes"
   ]
  },
  {
   "cell_type": "code",
   "execution_count": 124,
   "id": "0b3ca202",
   "metadata": {},
   "outputs": [
    {
     "data": {
      "text/plain": [
       "{'Telefones': ['555-333', '222-444', '985-347'],\n",
       " 'Endereco': ['rua pedro 1', 'rua 1', 'beira mar']}"
      ]
     },
     "execution_count": 124,
     "metadata": {},
     "output_type": "execute_result"
    }
   ],
   "source": [
    "minha_agenda"
   ]
  },
  {
   "cell_type": "code",
   "execution_count": 125,
   "id": "46a7f98a",
   "metadata": {},
   "outputs": [],
   "source": [
    "# inserindo uma chave\n",
    "minha_agenda['Nomes'] = nomes"
   ]
  },
  {
   "cell_type": "code",
   "execution_count": 126,
   "id": "cdca0045",
   "metadata": {},
   "outputs": [
    {
     "data": {
      "text/plain": [
       "dict_items([('Telefones', ['555-333', '222-444', '985-347']), ('Endereco', ['rua pedro 1', 'rua 1', 'beira mar']), ('Nomes', ['joao', 'pedro', 'tiago'])])"
      ]
     },
     "execution_count": 126,
     "metadata": {},
     "output_type": "execute_result"
    }
   ],
   "source": [
    "minha_agenda.items()"
   ]
  },
  {
   "cell_type": "markdown",
   "id": "e570f244",
   "metadata": {},
   "source": [
    "#### listas"
   ]
  },
  {
   "cell_type": "markdown",
   "id": "85e61da9",
   "metadata": {},
   "source": [
    "\n",
    "As listas são estruturas mutaveis, podemos inserir e remover itens delas sempre que desejamos. Vamos ver uns exemplos!\n"
   ]
  },
  {
   "cell_type": "code",
   "execution_count": 127,
   "id": "57b5d887",
   "metadata": {},
   "outputs": [],
   "source": [
    "a = [1, 2, 3] #declarando a variavel \"a\"\n"
   ]
  },
  {
   "cell_type": "code",
   "execution_count": 128,
   "id": "ee020107",
   "metadata": {},
   "outputs": [
    {
     "data": {
      "text/plain": [
       "1"
      ]
     },
     "execution_count": 128,
     "metadata": {},
     "output_type": "execute_result"
    }
   ],
   "source": [
    "a[0]"
   ]
  },
  {
   "cell_type": "code",
   "execution_count": 129,
   "id": "cfc374c6",
   "metadata": {},
   "outputs": [
    {
     "data": {
      "text/plain": [
       "3"
      ]
     },
     "execution_count": 129,
     "metadata": {},
     "output_type": "execute_result"
    }
   ],
   "source": [
    "a[2]"
   ]
  },
  {
   "cell_type": "code",
   "execution_count": 130,
   "id": "4a971718",
   "metadata": {},
   "outputs": [],
   "source": [
    "a.append(4) # adicionando o numero 4 na lista a"
   ]
  },
  {
   "cell_type": "code",
   "execution_count": 131,
   "id": "a477b84e",
   "metadata": {},
   "outputs": [
    {
     "data": {
      "text/plain": [
       "[1, 2, 3, 4]"
      ]
     },
     "execution_count": 131,
     "metadata": {},
     "output_type": "execute_result"
    }
   ],
   "source": [
    "a"
   ]
  },
  {
   "cell_type": "code",
   "execution_count": 132,
   "id": "ad0702cb",
   "metadata": {},
   "outputs": [
    {
     "data": {
      "text/plain": [
       "4"
      ]
     },
     "execution_count": 132,
     "metadata": {},
     "output_type": "execute_result"
    }
   ],
   "source": [
    "a.pop(3) # eliminando o ultimo valor de a"
   ]
  },
  {
   "cell_type": "code",
   "execution_count": 133,
   "id": "bdbb2343",
   "metadata": {},
   "outputs": [
    {
     "data": {
      "text/plain": [
       "[1, 2, 3]"
      ]
     },
     "execution_count": 133,
     "metadata": {},
     "output_type": "execute_result"
    }
   ],
   "source": [
    "a"
   ]
  },
  {
   "cell_type": "code",
   "execution_count": 134,
   "id": "80635dfe",
   "metadata": {},
   "outputs": [],
   "source": [
    "a[1] = 'b' # alterendo o 2º valor de a. subs \"2\" por \"b\""
   ]
  },
  {
   "cell_type": "code",
   "execution_count": 135,
   "id": "e018d2c7",
   "metadata": {},
   "outputs": [
    {
     "data": {
      "text/plain": [
       "[1, 'b', 3]"
      ]
     },
     "execution_count": 135,
     "metadata": {},
     "output_type": "execute_result"
    }
   ],
   "source": [
    "a"
   ]
  },
  {
   "cell_type": "markdown",
   "id": "a234ed13",
   "metadata": {},
   "source": [
    "#### Arrays"
   ]
  },
  {
   "cell_type": "markdown",
   "id": "2acf948c",
   "metadata": {},
   "source": [
    "Arrays nada mais são do que listas de listas, portando as Arrays podem ter de 0 a inf dimensões!"
   ]
  },
  {
   "cell_type": "code",
   "execution_count": 136,
   "id": "ddb572a1",
   "metadata": {},
   "outputs": [],
   "source": [
    "array1d = [1,2,3] # uma lista simples. So possui linhas"
   ]
  },
  {
   "cell_type": "code",
   "execution_count": 137,
   "id": "ff35f9a3",
   "metadata": {},
   "outputs": [
    {
     "data": {
      "text/plain": [
       "[1, 2, 3]"
      ]
     },
     "execution_count": 137,
     "metadata": {},
     "output_type": "execute_result"
    }
   ],
   "source": [
    "array1d"
   ]
  },
  {
   "cell_type": "code",
   "execution_count": 138,
   "id": "0abab630",
   "metadata": {},
   "outputs": [],
   "source": [
    "array2d = [[1,2,3],[4,5,6]] # possui linhas e colunas"
   ]
  },
  {
   "cell_type": "code",
   "execution_count": 139,
   "id": "0bf2bd6e",
   "metadata": {},
   "outputs": [
    {
     "data": {
      "text/plain": [
       "[[1, 2, 3], [4, 5, 6]]"
      ]
     },
     "execution_count": 139,
     "metadata": {},
     "output_type": "execute_result"
    }
   ],
   "source": [
    "array2d"
   ]
  },
  {
   "cell_type": "code",
   "execution_count": 140,
   "id": "3fcbaed4",
   "metadata": {},
   "outputs": [
    {
     "data": {
      "text/plain": [
       "[1, 2, 3]"
      ]
     },
     "execution_count": 140,
     "metadata": {},
     "output_type": "execute_result"
    }
   ],
   "source": [
    "array2d[0][:]# todas as colunas da 1º linha"
   ]
  },
  {
   "cell_type": "code",
   "execution_count": 141,
   "id": "331240dd",
   "metadata": {},
   "outputs": [
    {
     "data": {
      "text/plain": [
       "[4, 5, 6]"
      ]
     },
     "execution_count": 141,
     "metadata": {},
     "output_type": "execute_result"
    }
   ],
   "source": [
    "array2d[1][:] #todas as colunas da 2º linha"
   ]
  },
  {
   "cell_type": "markdown",
   "id": "89191040",
   "metadata": {},
   "source": [
    "## loops"
   ]
  },
  {
   "cell_type": "markdown",
   "id": "9a34f9be",
   "metadata": {},
   "source": [
    "<h4> Loops são ferramentas muito úteis em programacao, com eles é possível executar\n",
    "processos de forma repetitiva até que uma condição seja quebrada ou alcançada.\n",
    "Vamos começar com loops \"while\" e depois o \"for\".</h4>"
   ]
  },
  {
   "cell_type": "code",
   "execution_count": 2,
   "id": "da32f282",
   "metadata": {},
   "outputs": [],
   "source": [
    "\"\"\"\n",
    "forma geral de um loop while\n",
    "\n",
    "while condicao:\n",
    "    comandos\n",
    "\"\"\" ;  "
   ]
  },
  {
   "cell_type": "code",
   "execution_count": 145,
   "id": "0eb52fc1",
   "metadata": {},
   "outputs": [
    {
     "name": "stdout",
     "output_type": "stream",
     "text": [
      "1\n",
      "2\n",
      "3\n",
      "4\n",
      "5\n",
      "6\n"
     ]
    }
   ],
   "source": [
    "n = 0\n",
    "\n",
    "while n<= 5:\n",
    "    \n",
    "    print(n)\n",
    "    n = n+1\n",
    "    \n",
    "    \n",
    "    "
   ]
  },
  {
   "cell_type": "code",
   "execution_count": 147,
   "id": "945c6ce8",
   "metadata": {},
   "outputs": [
    {
     "name": "stdout",
     "output_type": "stream",
     "text": [
      "1\n",
      "2\n",
      "3\n",
      "4\n",
      "5\n",
      "6\n",
      "7\n",
      "8\n",
      "9\n",
      "10\n"
     ]
    }
   ],
   "source": [
    "for iterador in [1,2,3,4,5,6,7,8,9,10]:\n",
    "    print(iterador)"
   ]
  },
  {
   "cell_type": "markdown",
   "id": "91a27a80",
   "metadata": {},
   "source": [
    "### Iteracoes sobre listas"
   ]
  },
  {
   "cell_type": "code",
   "execution_count": 4,
   "id": "a49f89fa",
   "metadata": {},
   "outputs": [],
   "source": [
    "minha_lista = [iterador for iterador in range(0,5)]"
   ]
  },
  {
   "cell_type": "code",
   "execution_count": 5,
   "id": "5f7835a5",
   "metadata": {},
   "outputs": [
    {
     "data": {
      "text/plain": [
       "[0, 1, 2, 3, 4]"
      ]
     },
     "execution_count": 5,
     "metadata": {},
     "output_type": "execute_result"
    }
   ],
   "source": [
    "minha_lista"
   ]
  },
  {
   "cell_type": "markdown",
   "id": "8ef2c2fd",
   "metadata": {},
   "source": [
    "    \"\"\"\n",
    "    Operadores\n",
    "\n",
    "    x + y\tsoma\n",
    "    x - y\tsubtracao\n",
    "    x * y\tproduto\n",
    "    x / y\tdivisao\n",
    "    x // y  divisao inteira\n",
    "    x ** y  potenciacao\n",
    "    x % y\tdivisao resto\n",
    "    \"\"\""
   ]
  },
  {
   "cell_type": "markdown",
   "id": "d01b8739",
   "metadata": {},
   "source": [
    "## Exercícios\n",
    "\n",
    "1 faça uma iteracao com loop for em uma lista que contenha mumeros de 1 a 100,\n",
    "dentro do loop insira um comando para imprimir o valor do iterador."
   ]
  },
  {
   "cell_type": "markdown",
   "id": "c5b8b56c",
   "metadata": {},
   "source": [
    "2 faça uma iteracao com loop while em uma lista de que contenha mumeros de 1 a 100,\n",
    "dentro do loop insira um comando para imprimir o valor do contador."
   ]
  },
  {
   "cell_type": "markdown",
   "id": "22216f86",
   "metadata": {},
   "source": [
    "3 crie um dicionario que contenha nomes, endereco e email."
   ]
  }
 ],
 "metadata": {
  "kernelspec": {
   "display_name": "Python 3 (ipykernel)",
   "language": "python",
   "name": "python3"
  },
  "language_info": {
   "codemirror_mode": {
    "name": "ipython",
    "version": 3
   },
   "file_extension": ".py",
   "mimetype": "text/x-python",
   "name": "python",
   "nbconvert_exporter": "python",
   "pygments_lexer": "ipython3",
   "version": "3.8.5"
  }
 },
 "nbformat": 4,
 "nbformat_minor": 5
}
