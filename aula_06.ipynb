{
 "cells": [
  {
   "cell_type": "markdown",
   "metadata": {},
   "source": [
    "## Aula 6 - Plotagem de um campo de correntes com o basemap."
   ]
  },
  {
   "cell_type": "markdown",
   "metadata": {},
   "source": [
    "<h3 style = \"color:gray\"> importando bibliotecas</h3>"
   ]
  },
  {
   "cell_type": "code",
   "execution_count": 1,
   "metadata": {},
   "outputs": [],
   "source": [
    "import os\n",
    "import cmocean\n",
    "import numpy as np\n",
    "import datetime as dt\n",
    "from netCDF4 import Dataset\n",
    "import matplotlib.pyplot as plt\n",
    "from mpl_toolkits.basemap import Basemap"
   ]
  },
  {
   "cell_type": "markdown",
   "metadata": {},
   "source": [
    "<h2 style=\"color:red\">Se você estiver no google colab, por favor descomente as 3 celulas abaixo e depois execute-as, ao finalizar a instalação reinicie o seu colab!.</h2>"
   ]
  },
  {
   "cell_type": "code",
   "execution_count": null,
   "metadata": {},
   "outputs": [],
   "source": [
    "#!pip install basemap"
   ]
  },
  {
   "cell_type": "code",
   "execution_count": null,
   "metadata": {},
   "outputs": [],
   "source": [
    "#!pip install cmocean"
   ]
  },
  {
   "cell_type": "code",
   "execution_count": null,
   "metadata": {},
   "outputs": [],
   "source": [
    "#!pip install netcdf4"
   ]
  },
  {
   "cell_type": "markdown",
   "metadata": {},
   "source": [
    "<h3 style = \"color:blue\"> Definindo funções</h3>"
   ]
  },
  {
   "cell_type": "code",
   "execution_count": null,
   "metadata": {},
   "outputs": [],
   "source": [
    "def lon360to180(lon):\n",
    "    \"\"\"\n",
    "    Converts longitude values in the range [0,360]\n",
    "    to longitude values in the range [-180,+180].\n",
    "    \"\"\"\n",
    "    lon = np.asanyarray(lon)\n",
    "    \n",
    "    return ((lon + 180.) % 360.) - 180."
   ]
  },
  {
   "cell_type": "code",
   "execution_count": null,
   "metadata": {},
   "outputs": [],
   "source": [
    "def hours_to_dates(reference_date, values):\n",
    "    \"\"\"\"\n",
    "    Converts hours values in datetime based in a\n",
    "    specific date.  The reference date must be in the\n",
    "    format Day/Month/Year Hour:Minutes\n",
    "    \"\"\"\n",
    "    import datetime as dt\n",
    "    \n",
    "    date_python = dt.datetime.strptime(reference_date,\n",
    "                                  '%d/%m/%Y %H:%M')\n",
    "    \n",
    "    Time = [date_python + dt.timedelta(hours = x) for x in values]\n",
    "    \n",
    "    return Time"
   ]
  },
  {
   "cell_type": "markdown",
   "metadata": {},
   "source": [
    "<h3 style=\"color:blue\">selecionado o diretorio de trabalho</h3>"
   ]
  },
  {
   "cell_type": "code",
   "execution_count": null,
   "metadata": {},
   "outputs": [],
   "source": [
    "pwd"
   ]
  },
  {
   "cell_type": "code",
   "execution_count": null,
   "metadata": {},
   "outputs": [],
   "source": [
    "os.chdir('/home/gustavo/Documentos/python_aulas/dados')"
   ]
  },
  {
   "cell_type": "markdown",
   "metadata": {},
   "source": [
    "<h3 style=\"color:blue\"> carregando o dado</h3>"
   ]
  },
  {
   "cell_type": "code",
   "execution_count": null,
   "metadata": {},
   "outputs": [],
   "source": [
    "data = Dataset('dado_aula_06.nc4')"
   ]
  },
  {
   "cell_type": "code",
   "execution_count": null,
   "metadata": {},
   "outputs": [],
   "source": [
    "data.variables"
   ]
  },
  {
   "cell_type": "code",
   "execution_count": null,
   "metadata": {},
   "outputs": [],
   "source": [
    "lat = data['lat'][:]\n",
    "lon = data['lon'][:]\n",
    "tempo = data['time'][:]"
   ]
  },
  {
   "cell_type": "code",
   "execution_count": null,
   "metadata": {},
   "outputs": [],
   "source": [
    "lat.min(), lat.max()"
   ]
  },
  {
   "cell_type": "code",
   "execution_count": null,
   "metadata": {},
   "outputs": [],
   "source": [
    "lon.min(), lon.max()"
   ]
  },
  {
   "cell_type": "code",
   "execution_count": null,
   "metadata": {},
   "outputs": [],
   "source": [
    "#transformando o intervalo das longitudes de [0 360] para [-180 180]\n",
    "lon = lon360to180(lon)"
   ]
  },
  {
   "cell_type": "code",
   "execution_count": null,
   "metadata": {},
   "outputs": [],
   "source": [
    "lon.min(),lon.max()"
   ]
  },
  {
   "cell_type": "code",
   "execution_count": null,
   "metadata": {},
   "outputs": [],
   "source": [
    "condx = np.where((lon>-66) & (lon<-35))\n",
    "condy= np.where((lat>-10)&(lat<10))\n",
    "\n",
    "condx = condx[0]\n",
    "condy = condy[0]\n",
    "\n",
    "lat2 = lat[condy]\n",
    "lon2 = lon[condx]\n",
    "\n",
    "u = data['water_u'][10,0,condy,condx]\n",
    "v = data['water_v'][10,0,condy,condx]\n"
   ]
  },
  {
   "cell_type": "code",
   "execution_count": null,
   "metadata": {},
   "outputs": [],
   "source": [
    "# Basemap\n",
    "m = Basemap(projection='mill',lat_ts=0, \\\n",
    "  llcrnrlon=lon2.min(),urcrnrlon=lon2.max(), \\\n",
    "  llcrnrlat=lat2.min(),urcrnrlat=lat2.max(), \\\n",
    "  resolution='i')\n"
   ]
  },
  {
   "cell_type": "code",
   "execution_count": null,
   "metadata": {},
   "outputs": [],
   "source": [
    "x = np.transpose(lon2)\n",
    "y = np.transpose(lat2)\n",
    "\n",
    "x, y = np.meshgrid(x, y)\n",
    "\n",
    "r = (u**2 + v**2)**.5\n",
    "\n",
    "X, Y = m(x, y)"
   ]
  },
  {
   "cell_type": "code",
   "execution_count": null,
   "metadata": {},
   "outputs": [],
   "source": [
    "plt.figure(figsize=(20,8))\n",
    "#plt.figure(figsize=(16,8))\n",
    "cmap = m.pcolor(X,Y,r,cmap=cmocean.cm.speed)\n",
    "cbar = plt.colorbar(cmap)\n",
    "cbar.set_label('velocidade(m/s)',fontsize=15);\n",
    "m.drawcoastlines()\n",
    "m.fillcontinents()\n",
    "m.drawmapboundary()\n",
    "m.drawparallels(np.arange(lat.min(),lat.max(),2),labels=[1,0,0,0])\n",
    "m.drawmeridians(np.arange(lon.min(),lon.max(),2),labels=[0,0,0,1])\n",
    "#m.drawcountries()\n",
    "#m.quiver(X[0:99:3,0:87:3], Y[0:99:3,0:87:3], u[0:99:3,0:87:3], v[0:99:3,0:87:3], latlon=False,scale=5)\n",
    "#plt.colorbar()\n",
    "#plt.ylabel('Latitude')\n",
    "#plt.xlabel('Longitude')\n",
    "plt.title('Corrente Norte do Brasil -10m')\n",
    "plt.show()"
   ]
  },
  {
   "cell_type": "markdown",
   "metadata": {},
   "source": [
    "<h3 style=\"color:blue\"> Agora iremos plotar a direção das correntes de todos os tempos do nosso arquivo.</h3>"
   ]
  },
  {
   "cell_type": "code",
   "execution_count": null,
   "metadata": {},
   "outputs": [],
   "source": [
    "# Basemap\n",
    "\n",
    "#data de referencia\n",
    "time_ref = dt.datetime.strptime(\"01/01/2000 00:00\",\n",
    "                                \"%d/%m/%Y %H:%M\")\n",
    "\n",
    "\n",
    "# loop para plotar cada imagem\n",
    "for iterador in range(0,len(tempo),1):\n",
    "    \n",
    "    tt = tempo[iterador]\n",
    "    tempo_dia = time_ref + dt.timedelta(hours=tt)\n",
    "    tempo_dia = dt.datetime.strftime(tempo_dia,\n",
    "                                     \"%d/%m/%Y %H:%M\")\n",
    "    \n",
    "    lon = lon360to180(lon)\n",
    "    \n",
    "    condx = np.where((lon>-66) & (lon<-35)) #lon min e max\n",
    "    condy= np.where((lat>-10)&(lat<10)) #lat min e max\n",
    "\n",
    "    condx = condx[0]\n",
    "    condy = condy[0]\n",
    "\n",
    "    lat2 = lat[condy]\n",
    "    lon2 = lon[condx]\n",
    "\n",
    "    u = data[\"water_u\"][iterador, 0,condy,condx]\n",
    "    v = data[\"water_v\"][iterador, 0,condy,condx]\n",
    "    \n",
    "\n",
    "    #definindo as propriedades do mapa\n",
    "    m = Basemap(projection=\"mill\",lat_ts=0, \\\n",
    "      llcrnrlon=lon2.min(),urcrnrlon=lon2.max(), \\\n",
    "      llcrnrlat=lat2.min(),urcrnrlat=lat2.max(), \\\n",
    "      resolution=\"i\")\n",
    "\n",
    "    \n",
    "    x = np.transpose(lon2)\n",
    "    y = np.transpose(lat2)\n",
    "\n",
    "    x, y = np.meshgrid(x, y)\n",
    "\n",
    "    r = (u**2 + v**2)**.5\n",
    "\n",
    "    X, Y = m(x, y)\n",
    "\n",
    "    #plotando a figura\n",
    "    plt.figure(figsize=(20,8))\n",
    "    m.drawcoastlines()\n",
    "    m.fillcontinents()\n",
    "    m.drawmapboundary()\n",
    "    m.drawparallels(np.arange(lat.min(),lat.max(),2),labels=[1,0,0,0])\n",
    "    m.drawmeridians(np.arange(lon.min(),lon.max(),2),labels=[0,0,0,1])\n",
    "   \n",
    "    m.quiver(X[0:499:8, 0:387:8], Y[0:499:8, 0:387:8],\n",
    "             u[0:499:8, 0:387:8], v[0:499:8, 0:387:8], \n",
    "             latlon=False,scale=20)\n",
    "\n",
    "    \n",
    "    plt.title('Corrente Norte do Brasil -10m\\n'+ tempo_dia)\n",
    "    plt.show()\n",
    "\n",
    "\n"
   ]
  }
 ],
 "metadata": {
  "kernelspec": {
   "display_name": "Python 3 (ipykernel)",
   "language": "python",
   "name": "python3"
  },
  "language_info": {
   "codemirror_mode": {
    "name": "ipython",
    "version": 3
   },
   "file_extension": ".py",
   "mimetype": "text/x-python",
   "name": "python",
   "nbconvert_exporter": "python",
   "pygments_lexer": "ipython3",
   "version": "3.8.5"
  }
 },
 "nbformat": 4,
 "nbformat_minor": 2
}
